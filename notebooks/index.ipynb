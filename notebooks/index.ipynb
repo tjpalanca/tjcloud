{
 "cells": [
  {
   "cell_type": "markdown",
   "metadata": {},
   "source": [
    "# TJCloud"
   ]
  },
  {
   "cell_type": "markdown",
   "metadata": {},
   "source": [
    "> This is my personal cloud - for hobby programming, personal projects, and experiments. "
   ]
  },
  {
   "cell_type": "markdown",
   "metadata": {},
   "source": [
    "## Key Technologies\n",
    "\n",
    "It uses a few core technologies:\n",
    "\n",
    "* [Terraform](https://www.terraform.io) (and [Terraform Cloud](https://app.terraform.io/)) for provisioning infrastructure as code,\n",
    "* [Kubernetes](https://kubernetes.io) for orchestrating various workloads, with a few general patterns:\n",
    "    * [NGINX Ingress](https://kubernetes.github.io/ingress-nginx/) for exposing web services to the web from the cluster\n",
    "    * Databases as stateful deployments \n",
    "    * [Keycloak](https://www.keycloak.org) for identity and access management \n",
    "    * [OAuth2 Proxy](https://oauth2-proxy.github.io/oauth2-proxy/) as main gateway to protect private services\n",
    "    * [Kaniko](https://github.com/GoogleContainerTools/kaniko) for building images inside a Kubernetes cluster\n",
    "* [Linode Kubernetes Engine](https://www.linode.com/products/kubernetes/), a simple, developer-friendly, and inexpensive cloud provider for managed Kubernetes, and \n",
    "* [Linode Object Storage](https://www.linode.com/products/object-storage/) for storing data files\n",
    "* [Cloudflare](https://www.cloudflare.com) for DNS, TLS, and all-around protection. Some key features are:\n",
    "    * Everything proxied through cloudflare network \n",
    "    * Origin certificate presented to cloudflare\n",
    "    * Cloudflare sends client certificate and server verifies\n",
    "* [GitHub Packages](https://github.com/features/packages) as my main image registry"
   ]
  },
  {
   "cell_type": "markdown",
   "metadata": {},
   "source": [
    "## Applications\n",
    "\n",
    "As of this writing, I host the following applications:\n",
    "\n",
    "* a VS Code instance from [code-server](https://github.com/coder/code-server) that allows me to develop on the cloud, with any device (including iPads and chromebooks!). Some special features are: \n",
    "    * Protected domains (https://<port>.<domain>) to test web apps running on the server or for exposing environments like Jupyter or Pluto\n",
    "    * Custom web fonts through an NGINX sub_filter \n",
    "    * Python, Julia, JS, and R installations for the confused data person \n",
    "* [PGAdmin](https://www.pgadmin.org), an excellent open source administration console for PostgreSQL \n",
    "* [PostgreSQL](https://www.postgresql.org) for my main database, and [Clickhouse](https://clickhouse.com) as a requirement for plausible\n",
    "* [Plausible Analytics](https://plausible.io) for hosting privacy-friendly website analytics\n",
    "* the [Kubernetes Dashboard](https://github.com/kubernetes/dashboard) for administering the cluster, and [metrics-server](https://github.com/kubernetes-sigs/metrics-server) for collecting data to present in the dashboard.\n"
   ]
  }
 ],
 "metadata": {
  "kernelspec": {
   "display_name": "Python 3.11.0 ('.venv': poetry)",
   "language": "python",
   "name": "python3"
  },
  "language_info": {
   "name": "python",
   "version": "3.11.0"
  },
  "vscode": {
   "interpreter": {
    "hash": "55dd5f12311832ad6e4a62c110f5f77699120e08169b9182b9ea4c26cfd72f9f"
   }
  }
 },
 "nbformat": 4,
 "nbformat_minor": 2
}
