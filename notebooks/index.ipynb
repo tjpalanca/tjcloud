{
  "cells": [
    {
      "cell_type": "raw",
      "metadata": {},
      "source": [
        "---\n",
        "title: TJCloud\n",
        "---"
      ]
    },
    {
      "attachments": {},
      "cell_type": "markdown",
      "metadata": {},
      "source": [
        "> This is my personal cloud - for hobby programming, personal projects, and experiments. \n",
        "\n",
        "## Key Technologies\n",
        "\n",
        "I'm leaning on the following core technologies:\n",
        "\n",
        "* [Terraform](https://www.terraform.io) (and [Terraform Cloud](https://app.terraform.io/) or [Github Actions](https://github.com/features/actions)) for provisioning infrastructure as code\n",
        "* [Kubernetes](https://kubernetes.io) for orchestrating various workloads\n",
        "* [NGINX Ingress](https://kubernetes.github.io/ingress-nginx/) for exposing web services to the web from the cluster\n",
        "* [DigitalOcean](https://www.digitalocean.com/products/kubernetes) as my main Kubernetes provider, while using block storage container storage interface for persistent storage.\n",
        "* [Cloudflare](https://www.cloudflare.com) for DNS, TLS, and origin server protection.\n",
        "* [Cloudflare Access](https://www.cloudflare.com/products/zero-trust/access/) for zero-trust access\n",
        "* [GitHub Packages](https://github.com/features/packages) as my main image registry.\n",
        "\n",
        "### Previous Technologies\n",
        "\n",
        "These are tech that I've retired from my personal cloud:\n",
        "\n",
        "* [Linode](https://linode.com), due to an ominous acquisition by Akamai and a price increase despite no feature parity with [DigitalOcean](https://digitalocean.com) to which I have moved.\n",
        "  * [Linode Kubernetes Engine](https://www.linode.com/products/kubernetes/), a simple, developer-friendly, and inexpensive cloud provider for managed Kubernetes, and \n",
        "  * [Linode Object Storage](https://www.linode.com/products/object-storage/) for storing data files\n",
        "* Self-hosted stack for user management and authentication of itnernal services, replaced by [Cloudflare Access](https://www.cloudflare.com/products/zero-trust/access/)\n",
        "  * [Keycloak](https://www.keycloak.org) for identity and access management\n",
        "  * [OAuth2 Proxy](https://oauth2-proxy.github.io/oauth2-proxy/) as main gateway to protect private services\n",
        "* Self-hosted stack for image building, replaced by [GitHub Actions](https://actions.github.com)\n",
        "  * [Kaniko](https://github.com/GoogleContainerTools/kaniko) for building images inside a Kubernetes cluster\n"
      ]
    },
    {
      "cell_type": "markdown",
      "metadata": {},
      "source": [
        "\n",
        "## Applications\n",
        "\n",
        "I host the following applications:\n",
        "\n",
        "* my personal coding and writing environment from [code-server](https://github.com/coder/code-server) that allows me to develop on the cloud, with any device (including iPads and chromebooks!). Some additional mods features are: \n",
        "    * Protected domains (https://\\<port\\>.\\<domain\\>) to test web apps running on the server or for exposing environments like Jupyter or Pluto\n",
        "    * Custom web fonts through an NGINX sub_filter \n",
        "    * Python, Julia, JS, and R installations for the confused data person \n",
        "\n",
        "### Disabled Applications\n",
        "\n",
        "The code is still in the repo, but is no longer in active use:\n",
        "\n",
        "* [PGAdmin](https://www.pgadmin.org), an excellent open source administration console for PostgreSQL \n",
        "* [Mastodon](https://joinmastodon.org) - my own personal Mastodon server\n",
        "  for interacting with the Fediverse (open source Twitter but less\n",
        "  annoying virality and more useful, insightful content)\n",
        "* [FreshRSS](https://freshrss.org) - feed reading service, I read using\n",
        "  [Reeder](https://reederapp.com) on iOS and Mac.\n",
        "* [Kill the Newsletter](https://github.com/leafac/kill-the-newsletter) -\n",
        "  A self-hosted, secure version of [Kill the\n",
        "  Newsletter](https://kill-the-newsletter.com) for managing newsletters\n",
        "  and feeding them into FreshRSS.\n",
        "* [PostgreSQL](https://www.postgresql.org) for my main database\n",
        "* [Clickhouse](https://clickhouse.com) as a requirement for Plausible Analytics, storing clickstream data \n",
        "* [Redis](https://redis.io) as a requirement for Mastodon, but also for general caching in the development server\n",
        "* [Plausible Analytics](https://plausible.io) for hosting privacy-friendly website analytics\n",
        "* the [Kubernetes Dashboard](https://github.com/kubernetes/dashboard) for administering the cluster, and [metrics-server](https://github.com/kubernetes-sigs/metrics-server) for collecting data to present in the dashboard."
      ]
    }
  ],
  "metadata": {
    "kernelspec": {
      "display_name": "Python 3 (ipykernel)",
      "language": "python",
      "name": "python3"
    }
  },
  "nbformat": 4,
  "nbformat_minor": 4
}
