{
 "cells": [
  {
   "cell_type": "markdown",
   "metadata": {},
   "source": [
    "# Linode \n",
    "\n",
    "> Dealing with my preferred cloud provider."
   ]
  },
  {
   "cell_type": "code",
   "execution_count": 18,
   "metadata": {},
   "outputs": [],
   "source": [
    "# | default_exp linode\n",
    "# | export\n",
    "import os\n",
    "import requests\n",
    "\n",
    "from functools import cached_property"
   ]
  },
  {
   "cell_type": "code",
   "execution_count": 19,
   "metadata": {},
   "outputs": [],
   "source": [
    "# | export\n",
    "\n",
    "\n",
    "class LinodeClient:\n",
    "    \"\"\"\n",
    "    A client instance that facilitates communication with the Linode API.\n",
    "    \"\"\"\n",
    "\n",
    "    def __init__(self, token):\n",
    "        self.base_url = \"https://api.linode.com/v4\"\n",
    "        self.session = requests.Session()\n",
    "        self.session.headers.update(\n",
    "            {\n",
    "                \"Content-Type\": \"application/json\",\n",
    "                \"Authorization\": f\"Bearer {token}\",\n",
    "            }\n",
    "        )\n",
    "\n",
    "    def api_call(self, method, endpoint, data=None):\n",
    "        url = f\"{self.base_url}{endpoint}\"\n",
    "        response = self.session.request(method, url, json=data)\n",
    "        return response\n",
    "\n",
    "    @cached_property\n",
    "    def firewall_id(self, label=\"tjcloud\"):\n",
    "        firewalls = self.api_call(\"GET\", \"/networking/firewalls\").json()[\"data\"]\n",
    "        firewall = list(filter(lambda f: f[\"label\"] == label, firewalls))[0]\n",
    "        return firewall[\"id\"]\n",
    "\n",
    "    def enable_firewall(self, status=\"enabled\"):\n",
    "        self.api_call(\n",
    "            \"PUT\", f\"/networking/firewalls/{self.firewall_id}\", data={\"status\": status}\n",
    "        )\n",
    "\n",
    "    def disable_firewall(self):\n",
    "        self.enable_firewall(status=\"disabled\")\n",
    "\n",
    "    @property\n",
    "    def is_firewall_enabled(self):\n",
    "        firewall = self.api_call(\n",
    "            \"GET\", f\"/networking/firewalls/{self.firewall_id}\"\n",
    "        ).json()\n",
    "        return firewall[\"status\"] == \"enabled\""
   ]
  },
  {
   "cell_type": "markdown",
   "metadata": {},
   "source": [
    "## Firewall\n",
    "\n",
    "We create a mechanism to control a firewall that is created for the Kubernetes cluster. Normally, it only allos web traffic but may allow other traffic depending on the needs of the cluster. "
   ]
  },
  {
   "cell_type": "code",
   "execution_count": 22,
   "metadata": {},
   "outputs": [
    {
     "name": "stdout",
     "output_type": "stream",
     "text": [
      "True\n",
      "True\n",
      "False\n"
     ]
    }
   ],
   "source": [
    "# | eval: false\n",
    "client = LinodeClient(os.getenv(\"LINODE_TOKEN\"))\n",
    "print(client.is_firewall_enabled)\n",
    "client.enable_firewall()\n",
    "print(client.is_firewall_enabled)\n",
    "client.disable_firewall()\n",
    "print(client.is_firewall_enabled)"
   ]
  }
 ],
 "metadata": {
  "kernelspec": {
   "display_name": "Python 3.11.0 ('.venv': poetry)",
   "language": "python",
   "name": "python3"
  },
  "language_info": {
   "codemirror_mode": {
    "name": "ipython",
    "version": 3
   },
   "file_extension": ".py",
   "mimetype": "text/x-python",
   "name": "python",
   "nbconvert_exporter": "python",
   "pygments_lexer": "ipython3",
   "version": "3.11.0"
  },
  "orig_nbformat": 4,
  "vscode": {
   "interpreter": {
    "hash": "55dd5f12311832ad6e4a62c110f5f77699120e08169b9182b9ea4c26cfd72f9f"
   }
  }
 },
 "nbformat": 4,
 "nbformat_minor": 2
}
